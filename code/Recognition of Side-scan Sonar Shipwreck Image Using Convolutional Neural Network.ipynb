{
 "cells": [
  {
   "cell_type": "markdown",
   "id": "9da25d5a-8495-4e93-9400-2672cb57a71f",
   "metadata": {},
   "source": [
    "# Recognition of Side-scan Sonar Shipwreck Image Using Convolutional Neural Network\n",
    "## 2020 2nd International Conference on Machine Learning, Big Data and Business Intelligence (MLBDBI)"
   ]
  },
  {
   "cell_type": "markdown",
   "id": "308209b7-e961-4379-983a-430560627f94",
   "metadata": {},
   "source": [
    "### Models\n",
    "<p>\n",
    "traditional model is appropriately simplified by constructing a convolutional neural network<br>\n",
    "consists of 2 convolutional layers with 32 convolution kernels,<br>\n",
    "2 convolutional layers with 64 convolution kernels, <br>\n",
    "2 convolutional layers with 128 convolution kernels, <br>\n",
    "2 convolutional layers with 256 convolution kernels, <br>\n",
    "2 fully connected layers with 128 neurons, <br>\n",
    "and 1 Sigmoid output layer.<br>\n",
    "The size of the convolution kernel is 3×3, the pooling layer uses maximum pooling, <br>\n",
    "the size is 2×2, and the activation function uses the ReLU function.<br>\n",
    "</p>\n",
    "\n",
    "![pictures/Improved_Convolutional_Neural_Network_Model.png](pictures/Improved_Convolutional_Neural_Network_Model.png)"
   ]
  },
  {
   "cell_type": "code",
   "execution_count": 3,
   "id": "9992a59b-e443-48a8-9b58-9b04fab3454e",
   "metadata": {},
   "outputs": [],
   "source": [
    "# import library\n",
    "import torch\n",
    "import torch.nn as nn\n",
    "import numpy as np\n",
    "\n",
    "# construct neural model\n",
    "class Improved_Convolutional_Neural_Network_Model(nn.Module):\n",
    "    def __init__(self):\n",
    "        super().__init__()\n",
    "        self.model = nn.Sequential(nn.Conv2d(3, 32, kernel_size=3), nn.ReLU(),\n",
    "                                  nn.Conv2d(32, 32, kernel_size=3), nn.ReLU(),\n",
    "                                  nn.MaxPool2d(kernel_size=2),\n",
    "                                  nn.Dropout(0.25), \n",
    "                                   \n",
    "                                  nn.Conv3d(32, 64, kernel_size=3), nn.ReLU(),\n",
    "                                  nn.Conv3d(64, 64, kernel_size=3), nn.ReLU(),\n",
    "                                  nn.MaxPool2d(kernel_size=2), \n",
    "                                  nn.Dropout(0.25),\n",
    "                                  \n",
    "                                  nn.Conv2d(64, 128, kernel_size=3), nn.ReLU(),\n",
    "                                  nn.Conv2d(128, 128, kernel_size=3), nn.ReLU(),\n",
    "                                  nn.MaxPool2d(kernel_size=2),\n",
    "                                  nn.Dropout(0.25),\n",
    "                                  \n",
    "                                  nn.Conv2d(128, 256, kernel_size=3), nn.ReLU(), \n",
    "                                  nn.Conv2d(256, 256, kernel_size=3), nn.ReLU(), \n",
    "                                  nn.MaxPool2d(kernel_size=2),\n",
    "                                  nn.Dropout(0.25),\n",
    "                                  \n",
    "                                  nn.Flatten(),\n",
    "                                  nn.Linear(256 * 12 *12, 128),\n",
    "                                  nn.ReLU(),\n",
    "                                  nn.Linear(128, 128),\n",
    "                                  nn.ReLU(),\n",
    "                                  nn.Linear(128, 2),\n",
    "                                  nn.Sigmoid()\n",
    "                                  )"
   ]
  },
  {
   "cell_type": "code",
   "execution_count": null,
   "id": "9ab65c4c-29a0-41f1-87fe-d87d93a4b770",
   "metadata": {},
   "outputs": [],
   "source": []
  }
 ],
 "metadata": {
  "kernelspec": {
   "display_name": "Python 3 (ipykernel)",
   "language": "python",
   "name": "python3"
  },
  "language_info": {
   "codemirror_mode": {
    "name": "ipython",
    "version": 3
   },
   "file_extension": ".py",
   "mimetype": "text/x-python",
   "name": "python",
   "nbconvert_exporter": "python",
   "pygments_lexer": "ipython3",
   "version": "3.12.4"
  }
 },
 "nbformat": 4,
 "nbformat_minor": 5
}
